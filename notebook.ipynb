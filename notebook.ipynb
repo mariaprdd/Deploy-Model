{
  "nbformat": 4,
  "nbformat_minor": 0,
  "metadata": {
    "colab": {
      "provenance": [],
      "authorship_tag": "ABX9TyOcIjPU4SAFxQYyvoDlqTxm",
      "include_colab_link": true
    },
    "kernelspec": {
      "name": "python3",
      "display_name": "Python 3"
    },
    "language_info": {
      "name": "python"
    }
  },
  "cells": [
    {
      "cell_type": "markdown",
      "metadata": {
        "id": "view-in-github",
        "colab_type": "text"
      },
      "source": [
        "<a href=\"https://colab.research.google.com/github/mariaprdd/Deploy-Model/blob/main/notebook.ipynb\" target=\"_parent\"><img src=\"https://colab.research.google.com/assets/colab-badge.svg\" alt=\"Open In Colab\"/></a>"
      ]
    },
    {
      "cell_type": "markdown",
      "source": [
        "## Proyek Analisis Data: Bike Sharing Dataset\n",
        "\n",
        "*   Nama: Maria Rosewati Pardede\n",
        "*   Email: mpardede18@gmail.com\n",
        "*   Id Dicoding: mariaprdd"
      ],
      "metadata": {
        "id": "KuMmacMBoSWZ"
      }
    },
    {
      "cell_type": "markdown",
      "source": [
        "# Menentukan Pertanyaan Bisnis\n",
        "\n",
        "*  Pertanyaan 1\n",
        "*  Pertanyaan 2"
      ],
      "metadata": {
        "id": "Nno00hTtqefP"
      }
    },
    {
      "cell_type": "markdown",
      "source": [
        "# Menyiapkan semua library yang dibutuhkan"
      ],
      "metadata": {
        "id": "CjtGTxUEwJiR"
      }
    },
    {
      "cell_type": "code",
      "source": [
        "import numpy as np\n",
        "import pandas as pd\n",
        "import matplotlib.pyplot as plt\n",
        "import seaborn as sns"
      ],
      "metadata": {
        "id": "znAdp3pnwQ1e"
      },
      "execution_count": null,
      "outputs": []
    },
    {
      "cell_type": "markdown",
      "source": [
        "# Data Wrangling"
      ],
      "metadata": {
        "id": "rT2JPAExlbuv"
      }
    },
    {
      "cell_type": "markdown",
      "source": [
        "Gathering Data"
      ],
      "metadata": {
        "id": "whmMX1JuluV-"
      }
    },
    {
      "cell_type": "code",
      "source": [],
      "metadata": {
        "id": "3J5x-OiBlxDA"
      },
      "execution_count": null,
      "outputs": []
    }
  ]
}